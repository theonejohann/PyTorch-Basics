{
 "cells": [
  {
   "cell_type": "markdown",
   "id": "611b31bc-a0dd-42a7-97dc-90a33ecbf24e",
   "metadata": {},
   "source": [
    "# PyTorch Basics"
   ]
  },
  {
   "cell_type": "markdown",
   "id": "f7cd3119-11b7-4a77-be86-44ad2a57d49b",
   "metadata": {},
   "source": [
    "## 0. Setup"
   ]
  },
  {
   "cell_type": "markdown",
   "id": "5bcc1c63-e9ed-4d05-af7d-7a0e1907e047",
   "metadata": {},
   "source": [
    "### Torch"
   ]
  },
  {
   "cell_type": "code",
   "execution_count": 1,
   "id": "80b99904-aac7-47f2-9907-2b90440c5723",
   "metadata": {},
   "outputs": [
    {
     "name": "stdout",
     "output_type": "stream",
     "text": [
      "Looking in indexes: https://pypi.org/simple, https://download.pytorch.org/whl/cu116\n",
      "Requirement already satisfied: torch in c:\\users\\one\\anaconda3\\lib\\site-packages (1.11.0)\n",
      "Requirement already satisfied: torchvision in c:\\users\\one\\anaconda3\\lib\\site-packages (0.12.0)\n",
      "Requirement already satisfied: torchaudio in c:\\users\\one\\anaconda3\\lib\\site-packages (0.12.0)\n",
      "Requirement already satisfied: typing-extensions in c:\\users\\one\\anaconda3\\lib\\site-packages (from torch) (4.1.1)\n",
      "Requirement already satisfied: numpy in c:\\users\\one\\anaconda3\\lib\\site-packages (from torchvision) (1.21.5)\n",
      "Requirement already satisfied: pillow!=8.3.*,>=5.3.0 in c:\\users\\one\\anaconda3\\lib\\site-packages (from torchvision) (9.0.1)\n",
      "Requirement already satisfied: requests in c:\\users\\one\\anaconda3\\lib\\site-packages (from torchvision) (2.27.1)\n",
      "Collecting torchaudio\n",
      "  Downloading https://download.pytorch.org/whl/cu116/torchaudio-0.12.0%2Bcu116-cp39-cp39-win_amd64.whl (1.2 MB)\n",
      "  Downloading torchaudio-0.11.0-cp39-cp39-win_amd64.whl (372 kB)\n",
      "Requirement already satisfied: charset-normalizer~=2.0.0 in c:\\users\\one\\anaconda3\\lib\\site-packages (from requests->torchvision) (2.0.4)\n",
      "Requirement already satisfied: urllib3<1.27,>=1.21.1 in c:\\users\\one\\anaconda3\\lib\\site-packages (from requests->torchvision) (1.26.9)\n",
      "Requirement already satisfied: certifi>=2017.4.17 in c:\\users\\one\\anaconda3\\lib\\site-packages (from requests->torchvision) (2022.6.15)\n",
      "Requirement already satisfied: idna<4,>=2.5 in c:\\users\\one\\anaconda3\\lib\\site-packages (from requests->torchvision) (3.3)\n",
      "Installing collected packages: torchaudio\n",
      "  Attempting uninstall: torchaudio\n",
      "    Found existing installation: torchaudio 0.12.0\n",
      "    Uninstalling torchaudio-0.12.0:\n",
      "      Successfully uninstalled torchaudio-0.12.0\n",
      "Successfully installed torchaudio-0.11.0\n"
     ]
    }
   ],
   "source": [
    "!pip3 install torch torchvision torchaudio --extra-index-url https://download.pytorch.org/whl/cu116"
   ]
  },
  {
   "cell_type": "code",
   "execution_count": 3,
   "id": "0f9cf8a7-aafd-4620-a721-af2469abf417",
   "metadata": {},
   "outputs": [],
   "source": [
    "import torch"
   ]
  },
  {
   "cell_type": "code",
   "execution_count": 5,
   "id": "1039b21e-8c0a-4a47-8cfc-5d57f1e559fd",
   "metadata": {},
   "outputs": [
    {
     "data": {
      "text/plain": [
       "tensor(4.)"
      ]
     },
     "execution_count": 5,
     "metadata": {},
     "output_type": "execute_result"
    }
   ],
   "source": [
    "# Tenors are numbers, vectors or mutidimesonoal arrays\n",
    "t1 = torch.tensor(4.)\n",
    "t1"
   ]
  },
  {
   "cell_type": "code",
   "execution_count": 6,
   "id": "3860fb6e-d16c-40b4-8a37-21a9c8870e91",
   "metadata": {},
   "outputs": [
    {
     "data": {
      "text/plain": [
       "torch.float32"
      ]
     },
     "execution_count": 6,
     "metadata": {},
     "output_type": "execute_result"
    }
   ],
   "source": [
    "t1.dtype"
   ]
  },
  {
   "cell_type": "code",
   "execution_count": 7,
   "id": "94dc4ce5-7a47-464a-8a5c-5d69f701de8a",
   "metadata": {},
   "outputs": [
    {
     "data": {
      "text/plain": [
       "tensor([1., 2., 3., 4.])"
      ]
     },
     "execution_count": 7,
     "metadata": {},
     "output_type": "execute_result"
    }
   ],
   "source": [
    "# Vector\n",
    "t2 = torch.tensor([1., 2, 3, 4])\n",
    "t2"
   ]
  },
  {
   "cell_type": "code",
   "execution_count": 10,
   "id": "63825c97-4a3f-4726-ba26-406a25fdc59d",
   "metadata": {},
   "outputs": [
    {
     "data": {
      "text/plain": [
       "tensor([[ 5.,  6.],\n",
       "        [ 7.,  8.],\n",
       "        [ 9., 10.]])"
      ]
     },
     "execution_count": 10,
     "metadata": {},
     "output_type": "execute_result"
    }
   ],
   "source": [
    "# Matrix\n",
    "t3 = torch.tensor([[5., 6],\n",
    "                 [7,8],\n",
    "                 [9,10]])\n",
    "t3"
   ]
  },
  {
   "cell_type": "code",
   "execution_count": 11,
   "id": "40d8cc0a-20a3-4ccd-b76b-728fe11ac2e8",
   "metadata": {},
   "outputs": [
    {
     "data": {
      "text/plain": [
       "(tensor(3.), tensor(4., requires_grad=True), tensor(5., requires_grad=True))"
      ]
     },
     "execution_count": 11,
     "metadata": {},
     "output_type": "execute_result"
    }
   ],
   "source": [
    "# Create Tensors\n",
    "x = torch.tensor(3.)\n",
    "w = torch.tensor(4., requires_grad=True)\n",
    "b = torch.tensor(5., requires_grad=True)\n",
    "x, w, b"
   ]
  },
  {
   "cell_type": "code",
   "execution_count": 13,
   "id": "43b2cd4a-24df-4f78-b540-e14c033fcec3",
   "metadata": {},
   "outputs": [
    {
     "data": {
      "text/plain": [
       "tensor(17., grad_fn=<AddBackward0>)"
      ]
     },
     "execution_count": 13,
     "metadata": {},
     "output_type": "execute_result"
    }
   ],
   "source": [
    "# Artithemic Opertaions\n",
    "y = w * x + b\n",
    "y"
   ]
  },
  {
   "cell_type": "code",
   "execution_count": 14,
   "id": "d6f2dc43-83bd-42d0-afc2-d811fb7e8b8a",
   "metadata": {},
   "outputs": [
    {
     "data": {
      "text/plain": [
       "<bound method Tensor.backward of tensor(17., grad_fn=<AddBackward0>)>"
      ]
     },
     "execution_count": 14,
     "metadata": {},
     "output_type": "execute_result"
    }
   ],
   "source": [
    "# Coumpute Direeactives\n",
    "y.backward"
   ]
  },
  {
   "cell_type": "markdown",
   "id": "c4a7b63a-8761-4a75-905f-8644d1c462ea",
   "metadata": {},
   "source": [
    "### Numpy"
   ]
  },
  {
   "cell_type": "code",
   "execution_count": 15,
   "id": "a5f24639-e84a-46f5-9e07-00e82601768a",
   "metadata": {},
   "outputs": [],
   "source": [
    "import numpy as np"
   ]
  },
  {
   "cell_type": "code",
   "execution_count": 18,
   "id": "22f65a4c-1226-48dd-ae7f-44ece1b5da50",
   "metadata": {},
   "outputs": [
    {
     "data": {
      "text/plain": [
       "array([[1, 2],\n",
       "       [3, 4]])"
      ]
     },
     "execution_count": 18,
     "metadata": {},
     "output_type": "execute_result"
    }
   ],
   "source": [
    "x = np.array([[1,2],\n",
    "              [3,4]])\n",
    "x"
   ]
  },
  {
   "cell_type": "code",
   "execution_count": 19,
   "id": "c8a7cab4-a66a-49e0-a4c5-080eb639726e",
   "metadata": {},
   "outputs": [
    {
     "data": {
      "text/plain": [
       "tensor([[1, 2],\n",
       "        [3, 4]], dtype=torch.int32)"
      ]
     },
     "execution_count": 19,
     "metadata": {},
     "output_type": "execute_result"
    }
   ],
   "source": [
    "# Covert from numpy array\n",
    "y = torch.from_numpy(x)\n",
    "y"
   ]
  },
  {
   "cell_type": "markdown",
   "id": "95360eca-c9a8-495d-aebd-941b7f059be5",
   "metadata": {},
   "source": [
    "## Working With Datasets"
   ]
  },
  {
   "cell_type": "code",
   "execution_count": 2,
   "id": "8c909aa7-34b6-492c-b529-c944b0321dea",
   "metadata": {},
   "outputs": [],
   "source": [
    "import torch\n",
    "import torchvision\n",
    "from torchvision.datasets import MNIST"
   ]
  },
  {
   "cell_type": "code",
   "execution_count": 3,
   "id": "135fffb1-366c-4f0a-8aec-493e1bf7c735",
   "metadata": {},
   "outputs": [
    {
     "name": "stdout",
     "output_type": "stream",
     "text": [
      "Downloading http://yann.lecun.com/exdb/mnist/train-images-idx3-ubyte.gz\n",
      "Downloading http://yann.lecun.com/exdb/mnist/train-images-idx3-ubyte.gz to data/MNIST\\raw\\train-images-idx3-ubyte.gz\n"
     ]
    },
    {
     "data": {
      "application/vnd.jupyter.widget-view+json": {
       "model_id": "3ca89953cab84448981df319676d3d64",
       "version_major": 2,
       "version_minor": 0
      },
      "text/plain": [
       "  0%|          | 0/9912422 [00:00<?, ?it/s]"
      ]
     },
     "metadata": {},
     "output_type": "display_data"
    },
    {
     "name": "stdout",
     "output_type": "stream",
     "text": [
      "Extracting data/MNIST\\raw\\train-images-idx3-ubyte.gz to data/MNIST\\raw\n",
      "\n",
      "Downloading http://yann.lecun.com/exdb/mnist/train-labels-idx1-ubyte.gz\n",
      "Downloading http://yann.lecun.com/exdb/mnist/train-labels-idx1-ubyte.gz to data/MNIST\\raw\\train-labels-idx1-ubyte.gz\n"
     ]
    },
    {
     "data": {
      "application/vnd.jupyter.widget-view+json": {
       "model_id": "5c23903796f34dd49f70a7a42544289e",
       "version_major": 2,
       "version_minor": 0
      },
      "text/plain": [
       "  0%|          | 0/28881 [00:00<?, ?it/s]"
      ]
     },
     "metadata": {},
     "output_type": "display_data"
    },
    {
     "name": "stdout",
     "output_type": "stream",
     "text": [
      "Extracting data/MNIST\\raw\\train-labels-idx1-ubyte.gz to data/MNIST\\raw\n",
      "\n",
      "Downloading http://yann.lecun.com/exdb/mnist/t10k-images-idx3-ubyte.gz\n",
      "Downloading http://yann.lecun.com/exdb/mnist/t10k-images-idx3-ubyte.gz to data/MNIST\\raw\\t10k-images-idx3-ubyte.gz\n"
     ]
    },
    {
     "data": {
      "application/vnd.jupyter.widget-view+json": {
       "model_id": "381583c2abe146f3b15dc65e45551fbb",
       "version_major": 2,
       "version_minor": 0
      },
      "text/plain": [
       "  0%|          | 0/1648877 [00:00<?, ?it/s]"
      ]
     },
     "metadata": {},
     "output_type": "display_data"
    },
    {
     "name": "stdout",
     "output_type": "stream",
     "text": [
      "Extracting data/MNIST\\raw\\t10k-images-idx3-ubyte.gz to data/MNIST\\raw\n",
      "\n",
      "Downloading http://yann.lecun.com/exdb/mnist/t10k-labels-idx1-ubyte.gz\n",
      "Downloading http://yann.lecun.com/exdb/mnist/t10k-labels-idx1-ubyte.gz to data/MNIST\\raw\\t10k-labels-idx1-ubyte.gz\n"
     ]
    },
    {
     "data": {
      "application/vnd.jupyter.widget-view+json": {
       "model_id": "9387237b43824d59ab7a896a0250a05c",
       "version_major": 2,
       "version_minor": 0
      },
      "text/plain": [
       "  0%|          | 0/4542 [00:00<?, ?it/s]"
      ]
     },
     "metadata": {},
     "output_type": "display_data"
    },
    {
     "name": "stdout",
     "output_type": "stream",
     "text": [
      "Extracting data/MNIST\\raw\\t10k-labels-idx1-ubyte.gz to data/MNIST\\raw\n",
      "\n"
     ]
    }
   ],
   "source": [
    "dataset = MNIST(root=\"data/\", download=True)"
   ]
  },
  {
   "cell_type": "code",
   "execution_count": 5,
   "id": "4537df10-5e74-4502-8db3-43f95e249ff6",
   "metadata": {},
   "outputs": [
    {
     "data": {
      "text/plain": [
       "60000"
      ]
     },
     "execution_count": 5,
     "metadata": {},
     "output_type": "execute_result"
    }
   ],
   "source": [
    "len(dataset)"
   ]
  },
  {
   "cell_type": "code",
   "execution_count": 6,
   "id": "4306ef3a-dc08-40f1-9f7c-2520775e8d4f",
   "metadata": {},
   "outputs": [],
   "source": [
    "import matplotlib.pyplot as plt"
   ]
  },
  {
   "cell_type": "code",
   "execution_count": 7,
   "id": "b8a8926f-a0c8-4f91-88dd-d704649dc066",
   "metadata": {},
   "outputs": [
    {
     "data": {
      "text/plain": [
       "<matplotlib.image.AxesImage at 0x2a06319b3a0>"
      ]
     },
     "execution_count": 7,
     "metadata": {},
     "output_type": "execute_result"
    },
    {
     "data": {
      "image/png": "[encoded data removed]",
      "text/plain": [
       "<Figure size 432x288 with 1 Axes>"
      ]
     },
     "metadata": {
      "needs_background": "light"
     },
     "output_type": "display_data"
    }
   ],
   "source": [
    "image, label = dataset[0]\n",
    "plt.imshow(image, cmap=\"gray\")"
   ]
  },
  {
   "cell_type": "code",
   "execution_count": 8,
   "id": "efbc8e8b-0872-4f72-818b-75c83833c351",
   "metadata": {},
   "outputs": [],
   "source": [
    "import torchvision.transforms as transforms"
   ]
  },
  {
   "cell_type": "code",
   "execution_count": 11,
   "id": "50e05693-ee43-4c62-89d6-435cbe786429",
   "metadata": {},
   "outputs": [],
   "source": [
    "dataset = MNIST(root=\"data/\",\n",
    "               train=True,\n",
    "               transform=transforms.ToTensor())"
   ]
  },
  {
   "cell_type": "code",
   "execution_count": 12,
   "id": "abca6b6a-5de3-4df0-a9bd-f5aa68bdcd8f",
   "metadata": {},
   "outputs": [
    {
     "name": "stdout",
     "output_type": "stream",
     "text": [
      "torch.Size([1, 28, 28]) 5\n"
     ]
    }
   ],
   "source": [
    "img_tensor, label = dataset[0]\n",
    "print(img_tensor.shape, label)"
   ]
  },
  {
   "cell_type": "code",
   "execution_count": 13,
   "id": "05b5aa6b-c844-4c45-ae1c-2c0a43498d7a",
   "metadata": {},
   "outputs": [
    {
     "name": "stdout",
     "output_type": "stream",
     "text": [
      "tensor([[0.0039, 0.6039, 0.9922, 0.3529, 0.0000],\n",
      "        [0.0000, 0.5451, 0.9922, 0.7451, 0.0078],\n",
      "        [0.0000, 0.0431, 0.7451, 0.9922, 0.2745],\n",
      "        [0.0000, 0.0000, 0.1373, 0.9451, 0.8824],\n",
      "        [0.0000, 0.0000, 0.0000, 0.3176, 0.9412]])\n",
      "tensor(1.) tensor(0.)\n"
     ]
    }
   ],
   "source": [
    "print(img_tensor[0,10:15,10:15])\n",
    "print(torch.max(img_tensor), torch.min(img_tensor))"
   ]
  },
  {
   "cell_type": "code",
   "execution_count": 15,
   "id": "f1287da5-0e3d-48c7-b08b-c59f8066a5b0",
   "metadata": {},
   "outputs": [
    {
     "data": {
      "text/plain": [
       "<matplotlib.image.AxesImage at 0x2a06912c9d0>"
      ]
     },
     "execution_count": 15,
     "metadata": {},
     "output_type": "execute_result"
    },
    {
     "data": {
      "image/png": "[encoded data removed]",
      "text/plain": [
       "<Figure size 432x288 with 1 Axes>"
      ]
     },
     "metadata": {
      "needs_background": "light"
     },
     "output_type": "display_data"
    }
   ],
   "source": [
    "plt.imshow(img_tensor[0,10:15,10:15], cmap='gray')"
   ]
  },
  {
   "cell_type": "code",
   "execution_count": 17,
   "id": "99c930dd-4a32-446b-b03f-93b6e4816997",
   "metadata": {},
   "outputs": [
    {
     "data": {
      "text/plain": [
       "(50000, 10000)"
      ]
     },
     "execution_count": 17,
     "metadata": {},
     "output_type": "execute_result"
    }
   ],
   "source": [
    "from torch.utils.data import random_split\n",
    "\n",
    "train_ds, val_ds = random_split(dataset, [50000, 10000])\n",
    "len(train_ds), len(val_ds)"
   ]
  },
  {
   "cell_type": "code",
   "execution_count": 20,
   "id": "57029d06-f744-4ebe-aba1-3d14939f43eb",
   "metadata": {},
   "outputs": [],
   "source": [
    "from torch.utils.data import DataLoader\n",
    "\n",
    "batch_size = 128\n",
    "\n",
    "train_loader = DataLoader(train_ds, batch_size, shuffle=True)\n",
    "val_loader = DataLoader(val_ds, batch_size)"
   ]
  },
  {
   "cell_type": "markdown",
   "id": "5eed539e-e595-4a92-8a29-ee2941f24c68",
   "metadata": {},
   "source": [
    "## Model"
   ]
  },
  {
   "cell_type": "code",
   "execution_count": 21,
   "id": "0a34c21d-5404-420c-ac1f-fd0b0ef2a57a",
   "metadata": {},
   "outputs": [],
   "source": [
    "import torch.nn as nn\n",
    "\n",
    "input_size = 28*28\n",
    "num_classes = 10\n",
    "\n",
    "# Logistic Regression Model\n",
    "model = nn.Linear(input_size, num_classes)"
   ]
  },
  {
   "cell_type": "code",
   "execution_count": 22,
   "id": "1a4454ac-c0f4-47d8-8cd4-c65f587588f8",
   "metadata": {},
   "outputs": [
    {
     "name": "stdout",
     "output_type": "stream",
     "text": [
      "torch.Size([10, 784])\n"
     ]
    },
    {
     "data": {
      "text/plain": [
       "Parameter containing:\n",
       "tensor([[ 0.0184, -0.0225, -0.0018,  ...,  0.0151,  0.0314,  0.0138],\n",
       "        [ 0.0237,  0.0079,  0.0016,  ..., -0.0262, -0.0053, -0.0062],\n",
       "        [ 0.0202, -0.0307,  0.0072,  ...,  0.0024,  0.0276,  0.0101],\n",
       "        ...,\n",
       "        [ 0.0146, -0.0347,  0.0099,  ..., -0.0080,  0.0055, -0.0095],\n",
       "        [ 0.0334,  0.0070,  0.0109,  ..., -0.0174, -0.0299, -0.0124],\n",
       "        [-0.0002, -0.0110,  0.0173,  ..., -0.0082, -0.0176,  0.0166]],\n",
       "       requires_grad=True)"
      ]
     },
     "execution_count": 22,
     "metadata": {},
     "output_type": "execute_result"
    }
   ],
   "source": [
    "print(model.weight.shape)\n",
    "model.weight"
   ]
  },
  {
   "cell_type": "code",
   "execution_count": 23,
   "id": "12e65314-2dcc-499a-9025-15722f00ade7",
   "metadata": {},
   "outputs": [
    {
     "name": "stdout",
     "output_type": "stream",
     "text": [
      "torch.Size([10])\n"
     ]
    },
    {
     "data": {
      "text/plain": [
       "Parameter containing:\n",
       "tensor([ 0.0172,  0.0069, -0.0353,  0.0241,  0.0097,  0.0330, -0.0151, -0.0207,\n",
       "         0.0339,  0.0328], requires_grad=True)"
      ]
     },
     "execution_count": 23,
     "metadata": {},
     "output_type": "execute_result"
    }
   ],
   "source": [
    "print(model.bias.shape)\n",
    "model.bias"
   ]
  },
  {
   "cell_type": "code",
   "execution_count": 24,
   "id": "81ea07b9-fc3d-43dc-ae28-5ff57b5960cb",
   "metadata": {},
   "outputs": [
    {
     "name": "stdout",
     "output_type": "stream",
     "text": [
      "tensor([9, 5, 3, 2, 4, 2, 0, 3, 4, 2, 3, 8, 2, 0, 6, 0, 0, 5, 5, 2, 9, 8, 5, 6,\n",
      "        0, 9, 4, 7, 9, 9, 3, 8, 2, 7, 8, 0, 5, 3, 9, 6, 9, 3, 3, 5, 2, 1, 7, 8,\n",
      "        9, 1, 8, 3, 2, 4, 8, 4, 7, 4, 9, 6, 8, 4, 8, 9, 7, 0, 8, 5, 8, 0, 8, 3,\n",
      "        0, 7, 3, 3, 1, 8, 7, 8, 0, 7, 7, 2, 9, 2, 2, 3, 0, 1, 3, 8, 6, 6, 2, 3,\n",
      "        6, 2, 9, 9, 4, 3, 7, 7, 0, 5, 3, 7, 8, 9, 1, 3, 9, 3, 7, 8, 0, 5, 7, 4,\n",
      "        0, 7, 0, 4, 4, 8, 1, 9])\n",
      "torch.Size([128, 1, 28, 28])\n"
     ]
    },
    {
     "ename": "RuntimeError",
     "evalue": "mat1 and mat2 shapes cannot be multiplied (3584x28 and 784x10)",
     "output_type": "error",
     "traceback": [
      "\u001b[1;31m---------------------------------------------------------------------------\u001b[0m",
      "\u001b[1;31mRuntimeError\u001b[0m                              Traceback (most recent call last)",
      "Input \u001b[1;32mIn [24]\u001b[0m, in \u001b[0;36m<cell line: 1>\u001b[1;34m()\u001b[0m\n\u001b[0;32m      2\u001b[0m \u001b[38;5;28mprint\u001b[39m(labels)\n\u001b[0;32m      3\u001b[0m \u001b[38;5;28mprint\u001b[39m(images\u001b[38;5;241m.\u001b[39mshape)\n\u001b[1;32m----> 4\u001b[0m output \u001b[38;5;241m=\u001b[39m \u001b[43mmodel\u001b[49m\u001b[43m(\u001b[49m\u001b[43mimages\u001b[49m\u001b[43m)\u001b[49m\n\u001b[0;32m      5\u001b[0m \u001b[38;5;28mprint\u001b[39m(outputs)\n\u001b[0;32m      6\u001b[0m \u001b[38;5;28;01mbreak\u001b[39;00m\n",
      "File \u001b[1;32m~\\anaconda3\\lib\\site-packages\\torch\\nn\\modules\\module.py:1110\u001b[0m, in \u001b[0;36mModule._call_impl\u001b[1;34m(self, *input, **kwargs)\u001b[0m\n\u001b[0;32m   1106\u001b[0m \u001b[38;5;66;03m# If we don't have any hooks, we want to skip the rest of the logic in\u001b[39;00m\n\u001b[0;32m   1107\u001b[0m \u001b[38;5;66;03m# this function, and just call forward.\u001b[39;00m\n\u001b[0;32m   1108\u001b[0m \u001b[38;5;28;01mif\u001b[39;00m \u001b[38;5;129;01mnot\u001b[39;00m (\u001b[38;5;28mself\u001b[39m\u001b[38;5;241m.\u001b[39m_backward_hooks \u001b[38;5;129;01mor\u001b[39;00m \u001b[38;5;28mself\u001b[39m\u001b[38;5;241m.\u001b[39m_forward_hooks \u001b[38;5;129;01mor\u001b[39;00m \u001b[38;5;28mself\u001b[39m\u001b[38;5;241m.\u001b[39m_forward_pre_hooks \u001b[38;5;129;01mor\u001b[39;00m _global_backward_hooks\n\u001b[0;32m   1109\u001b[0m         \u001b[38;5;129;01mor\u001b[39;00m _global_forward_hooks \u001b[38;5;129;01mor\u001b[39;00m _global_forward_pre_hooks):\n\u001b[1;32m-> 1110\u001b[0m     \u001b[38;5;28;01mreturn\u001b[39;00m forward_call(\u001b[38;5;241m*\u001b[39m\u001b[38;5;28minput\u001b[39m, \u001b[38;5;241m*\u001b[39m\u001b[38;5;241m*\u001b[39mkwargs)\n\u001b[0;32m   1111\u001b[0m \u001b[38;5;66;03m# Do not call functions when jit is used\u001b[39;00m\n\u001b[0;32m   1112\u001b[0m full_backward_hooks, non_full_backward_hooks \u001b[38;5;241m=\u001b[39m [], []\n",
      "File \u001b[1;32m~\\anaconda3\\lib\\site-packages\\torch\\nn\\modules\\linear.py:103\u001b[0m, in \u001b[0;36mLinear.forward\u001b[1;34m(self, input)\u001b[0m\n\u001b[0;32m    102\u001b[0m \u001b[38;5;28;01mdef\u001b[39;00m \u001b[38;5;21mforward\u001b[39m(\u001b[38;5;28mself\u001b[39m, \u001b[38;5;28minput\u001b[39m: Tensor) \u001b[38;5;241m-\u001b[39m\u001b[38;5;241m>\u001b[39m Tensor:\n\u001b[1;32m--> 103\u001b[0m     \u001b[38;5;28;01mreturn\u001b[39;00m \u001b[43mF\u001b[49m\u001b[38;5;241;43m.\u001b[39;49m\u001b[43mlinear\u001b[49m\u001b[43m(\u001b[49m\u001b[38;5;28;43minput\u001b[39;49m\u001b[43m,\u001b[49m\u001b[43m \u001b[49m\u001b[38;5;28;43mself\u001b[39;49m\u001b[38;5;241;43m.\u001b[39;49m\u001b[43mweight\u001b[49m\u001b[43m,\u001b[49m\u001b[43m \u001b[49m\u001b[38;5;28;43mself\u001b[39;49m\u001b[38;5;241;43m.\u001b[39;49m\u001b[43mbias\u001b[49m\u001b[43m)\u001b[49m\n",
      "\u001b[1;31mRuntimeError\u001b[0m: mat1 and mat2 shapes cannot be multiplied (3584x28 and 784x10)"
     ]
    }
   ],
   "source": [
    "for images, labels in train_loader:\n",
    "    print(labels)\n",
    "    print(images.shape)\n",
    "    output = model(images)\n",
    "    print(outputs)\n",
    "    break"
   ]
  },
  {
   "cell_type": "code",
   "execution_count": 25,
   "id": "1b883631-0ea3-44cf-aa4d-283078f18575",
   "metadata": {},
   "outputs": [
    {
     "data": {
      "text/plain": [
       "torch.Size([128, 1, 28, 28])"
      ]
     },
     "execution_count": 25,
     "metadata": {},
     "output_type": "execute_result"
    }
   ],
   "source": [
    "images.shape"
   ]
  },
  {
   "cell_type": "code",
   "execution_count": 26,
   "id": "98888766-fd78-448f-b64a-2735dec33e8b",
   "metadata": {},
   "outputs": [
    {
     "data": {
      "text/plain": [
       "torch.Size([128, 784])"
      ]
     },
     "execution_count": 26,
     "metadata": {},
     "output_type": "execute_result"
    }
   ],
   "source": [
    "images.reshape(128, 784).shape"
   ]
  },
  {
   "cell_type": "code",
   "execution_count": 33,
   "id": "1a09c722-4451-4bb6-95bb-c172f04b75ec",
   "metadata": {},
   "outputs": [],
   "source": [
    "class MnistModel(nn.Module):\n",
    "    def __init__(self):\n",
    "        super().__init__()\n",
    "        self.linear = nn.Linear(input_size, num_classes)\n",
    "        \n",
    "    def forward(self, xb):\n",
    "        xb = xb.reshape(-1, 784)\n",
    "        out = self.linear(xb)\n",
    "        return out\n",
    "    \n",
    "model = MnistModel()"
   ]
  },
  {
   "cell_type": "code",
   "execution_count": 34,
   "id": "de8d4ebe-60f6-4fcc-b0c9-cd5033f34ce1",
   "metadata": {},
   "outputs": [
    {
     "data": {
      "text/plain": [
       "Linear(in_features=784, out_features=10, bias=True)"
      ]
     },
     "execution_count": 34,
     "metadata": {},
     "output_type": "execute_result"
    }
   ],
   "source": [
    "model.linear"
   ]
  },
  {
   "cell_type": "code",
   "execution_count": 35,
   "id": "9c766778-6efd-4957-b97d-9768cae7275e",
   "metadata": {},
   "outputs": [
    {
     "name": "stdout",
     "output_type": "stream",
     "text": [
      "torch.Size([10, 784]) torch.Size([10])\n"
     ]
    },
    {
     "data": {
      "text/plain": [
       "[Parameter containing:\n",
       " tensor([[-0.0323, -0.0344, -0.0161,  ..., -0.0320,  0.0254, -0.0025],\n",
       "         [-0.0318, -0.0112,  0.0077,  ...,  0.0357, -0.0271, -0.0108],\n",
       "         [-0.0332,  0.0261,  0.0241,  ...,  0.0135,  0.0065,  0.0311],\n",
       "         ...,\n",
       "         [-0.0050, -0.0295,  0.0044,  ...,  0.0228,  0.0309,  0.0152],\n",
       "         [-0.0035,  0.0223,  0.0241,  ...,  0.0076, -0.0132,  0.0027],\n",
       "         [-0.0286,  0.0012,  0.0049,  ..., -0.0140, -0.0305, -0.0303]],\n",
       "        requires_grad=True),\n",
       " Parameter containing:\n",
       " tensor([ 0.0222,  0.0227,  0.0127,  0.0123, -0.0028,  0.0292,  0.0205,  0.0168,\n",
       "          0.0015,  0.0270], requires_grad=True)]"
      ]
     },
     "execution_count": 35,
     "metadata": {},
     "output_type": "execute_result"
    }
   ],
   "source": [
    "print(model.linear.weight.shape, model.linear.bias.shape)\n",
    "list(model.parameters())"
   ]
  },
  {
   "cell_type": "code",
   "execution_count": 36,
   "id": "bf830fdb-c2f9-4ec1-94ec-31b86eef488f",
   "metadata": {},
   "outputs": [
    {
     "name": "stdout",
     "output_type": "stream",
     "text": [
      "outputs.shape:  torch.Size([128, 10])\n",
      "sample outputs :\n",
      ":  tensor([[ 0.1540, -0.1407,  0.0666,  0.1173, -0.1026,  0.0477,  0.2340, -0.4623,\n",
      "          0.0286,  0.1627],\n",
      "        [-0.0094,  0.0009,  0.0898, -0.0129, -0.2146, -0.0518, -0.0645, -0.0362,\n",
      "          0.0005,  0.3031]])\n"
     ]
    }
   ],
   "source": [
    "for images, labels in train_loader:\n",
    "    outputs = model(images)\n",
    "    break\n",
    "    \n",
    "print(\"outputs.shape: \", outputs.shape)\n",
    "print(\"sample outputs :\\n: \", outputs[:2].data)"
   ]
  },
  {
   "cell_type": "code",
   "execution_count": 37,
   "id": "2e3ae79b-f433-4a0c-9f16-004292034dba",
   "metadata": {},
   "outputs": [],
   "source": [
    "import torch.nn.functional as F"
   ]
  },
  {
   "cell_type": "code",
   "execution_count": 40,
   "id": "1a76780b-486e-45d6-99f3-9911b74338a4",
   "metadata": {},
   "outputs": [
    {
     "name": "stdout",
     "output_type": "stream",
     "text": [
      "Sample probs:\n",
      " tensor([[0.1135, 0.0845, 0.1040, 0.1094, 0.0878, 0.1020, 0.1229, 0.0613, 0.1001,\n",
      "         0.1145],\n",
      "        [0.0982, 0.0992, 0.1085, 0.0979, 0.0800, 0.0941, 0.0930, 0.0956, 0.0992,\n",
      "         0.1343]])\n",
      "Sum:  1.0000001192092896\n"
     ]
    }
   ],
   "source": [
    "probs = F.softmax(outputs, dim=1)\n",
    "\n",
    "print(\"Sample probs:\\n\", probs[:2].data)\n",
    "\n",
    "print(\"Sum: \", torch.sum(probs[0]).item())"
   ]
  },
  {
   "cell_type": "code",
   "execution_count": 42,
   "id": "9ac29764-1a0e-4672-9b02-1337a77629b2",
   "metadata": {},
   "outputs": [
    {
     "name": "stdout",
     "output_type": "stream",
     "text": [
      "tensor([6, 9, 5, 2, 9, 9, 2, 9, 3, 5, 9, 9, 3, 5, 9, 9, 2, 6, 2, 0, 5, 5, 5, 5,\n",
      "        9, 3, 5, 9, 0, 9, 9, 0, 6, 5, 9, 9, 3, 4, 9, 0, 2, 9, 9, 2, 5, 0, 9, 9,\n",
      "        5, 9, 0, 9, 9, 5, 8, 9, 6, 6, 1, 9, 5, 2, 0, 8, 9, 5, 1, 6, 2, 9, 6, 0,\n",
      "        9, 0, 9, 2, 9, 9, 0, 0, 8, 5, 9, 9, 5, 2, 9, 6, 5, 9, 2, 5, 3, 0, 0, 9,\n",
      "        9, 9, 9, 0, 5, 9, 9, 6, 0, 9, 6, 0, 0, 9, 9, 9, 9, 6, 2, 0, 6, 9, 9, 8,\n",
      "        8, 5, 8, 9, 9, 0, 3, 9])\n",
      "tensor([0.1229, 0.1343, 0.1238, 0.1373, 0.1472, 0.1423, 0.1315, 0.1937, 0.1227,\n",
      "        0.1305, 0.1356, 0.1359, 0.1226, 0.1273, 0.1494, 0.1162, 0.1214, 0.1324,\n",
      "        0.1460, 0.1303, 0.1341, 0.1231, 0.1161, 0.1210, 0.1381, 0.1189, 0.1481,\n",
      "        0.1279, 0.1369, 0.1267, 0.1278, 0.1201, 0.1302, 0.1253, 0.1388, 0.1220,\n",
      "        0.1286, 0.1204, 0.1316, 0.1469, 0.1579, 0.1449, 0.1422, 0.1252, 0.1165,\n",
      "        0.1284, 0.1325, 0.1268, 0.1414, 0.1386, 0.1357, 0.1369, 0.1486, 0.1231,\n",
      "        0.1172, 0.1397, 0.1229, 0.1341, 0.1255, 0.1380, 0.1415, 0.1168, 0.1497,\n",
      "        0.1401, 0.1449, 0.1386, 0.1181, 0.1170, 0.1285, 0.1354, 0.1104, 0.1232,\n",
      "        0.1201, 0.1211, 0.1198, 0.1275, 0.1514, 0.1264, 0.1228, 0.1472, 0.1464,\n",
      "        0.1198, 0.1470, 0.1583, 0.1147, 0.1244, 0.1319, 0.1237, 0.1320, 0.1266,\n",
      "        0.1232, 0.1393, 0.1177, 0.1152, 0.1812, 0.1397, 0.1419, 0.1420, 0.1253,\n",
      "        0.1345, 0.1195, 0.1462, 0.1424, 0.1210, 0.1259, 0.1269, 0.1277, 0.1226,\n",
      "        0.1293, 0.1235, 0.1747, 0.1377, 0.1198, 0.1278, 0.1312, 0.1531, 0.1204,\n",
      "        0.1216, 0.1225, 0.1316, 0.1181, 0.1313, 0.1206, 0.1296, 0.1152, 0.1395,\n",
      "        0.1268, 0.1299], grad_fn=<MaxBackward0>)\n"
     ]
    }
   ],
   "source": [
    "max_probs, preds = torch.max(probs, dim=1)\n",
    "print(preds)\n",
    "print(max_probs)"
   ]
  },
  {
   "cell_type": "markdown",
   "id": "00a1e0aa-a9f5-4d96-af24-f4d8bc05f867",
   "metadata": {},
   "source": [
    "## Accuracy"
   ]
  },
  {
   "cell_type": "code",
   "execution_count": 43,
   "id": "c520712e-6085-40b4-a28d-529df36b59d7",
   "metadata": {},
   "outputs": [],
   "source": [
    "def accuracy(outputs, labels):\n",
    "    _, preds = torch.max(outputs, dim=1)\n",
    "    return torch.tensor(torch.sum(preds == labels).item() / len(preds))"
   ]
  },
  {
   "cell_type": "code",
   "execution_count": 44,
   "id": "813cafa1-cc39-445d-93a6-71f04e359599",
   "metadata": {},
   "outputs": [
    {
     "data": {
      "text/plain": [
       "tensor(0.1250)"
      ]
     },
     "execution_count": 44,
     "metadata": {},
     "output_type": "execute_result"
    }
   ],
   "source": [
    "accuracy(outputs, labels)"
   ]
  },
  {
   "cell_type": "code",
   "execution_count": 45,
   "id": "02cfc66b-14d8-41b7-97d3-dd8011e06c51",
   "metadata": {},
   "outputs": [],
   "source": [
    "loss_fn = F.cross_entropy"
   ]
  },
  {
   "cell_type": "code",
   "execution_count": 46,
   "id": "5c2ba6ec-751f-4a16-95c6-88ab559500ac",
   "metadata": {},
   "outputs": [
    {
     "name": "stdout",
     "output_type": "stream",
     "text": [
      "tensor(2.3056, grad_fn=<NllLossBackward0>)\n"
     ]
    }
   ],
   "source": [
    "# Loss for current batch of data\n",
    "loss = loss_fn(outputs, labels)\n",
    "print(loss)"
   ]
  },
  {
   "cell_type": "markdown",
   "id": "d3c264e2-a640-416c-a8d6-e9fa0a837dc0",
   "metadata": {},
   "source": [
    "## Training"
   ]
  },
  {
   "cell_type": "code",
   "execution_count": 55,
   "id": "e03a30db-52d2-4f35-aa3e-e8599695b7aa",
   "metadata": {},
   "outputs": [],
   "source": [
    "def fit(epochs, lr, model, train_loader, val_loader, opt_func=torch.optim.SGD):\n",
    "    optimizer = opt_func(model.parameters(), lr)\n",
    "    history = [] # for recording epoch-wise results\n",
    "    \n",
    "    for epoch in range(epochs):\n",
    "        \n",
    "        # Training Phase \n",
    "        for batch in train_loader:\n",
    "            loss = model.training_step(batch)\n",
    "            loss.backward()\n",
    "            optimizer.step()\n",
    "            optimizer.zero_grad()\n",
    "        \n",
    "        # Validation phase\n",
    "        result = evaluate(model, val_loader)\n",
    "        model.epoch_end(epoch, result)\n",
    "        history.append(result)\n",
    "\n",
    "    return history"
   ]
  },
  {
   "cell_type": "code",
   "execution_count": 56,
   "id": "b7f78d91-fe18-4971-a3c5-b27969ce0552",
   "metadata": {},
   "outputs": [],
   "source": [
    "def evaluate(model, val_loader):\n",
    "    outputs = [model.validation_step(batch) for batch in val_loader]\n",
    "    return model.validation_epoch_end(outputs)"
   ]
  },
  {
   "cell_type": "code",
   "execution_count": 57,
   "id": "0db32f1d-26b9-4c04-9c29-22633ba75b82",
   "metadata": {},
   "outputs": [],
   "source": [
    "class MnistModel(nn.Module):\n",
    "    def __init__(self):\n",
    "        super().__init__()\n",
    "        self.linear = nn.Linear(input_size, num_classes)\n",
    "        \n",
    "    def forward(self, xb):\n",
    "        xb = xb.reshape(-1, 784)\n",
    "        out = self.linear(xb)\n",
    "        return out\n",
    "    \n",
    "    def training_step(self, batch):\n",
    "        images, labels = batch\n",
    "        out = self(images)\n",
    "        loss = F.cross_entropy(out, labels)\n",
    "        return loss\n",
    "    \n",
    "    def validation_step(self, batch):\n",
    "        images, labels = batch\n",
    "        out = self(images)\n",
    "        loss = F.cross_entropy(out, labels)\n",
    "        acc = accuracy(out, labels)\n",
    "        return {'val_loss': loss, 'val_acc': acc}\n",
    "    \n",
    "    def validation_epoch_end(self, outputs):\n",
    "        batch_losses = [x[\"val_loss\"] for x in outputs]\n",
    "        epoch_loss = torch.stack(batch_losses).mean()\n",
    "        batch_accs = [x[\"val_acc\"] for x in outputs]\n",
    "        epoch_acc = torch.stack(batch_accs).mean()\n",
    "        return {\"val_loss\": epoch_loss.item(), \"val_acc\": epoch_acc.item()}\n",
    "    \n",
    "    def epoch_end(self, epoch, result):\n",
    "        print(\"Epoch [{}], val_loss: {:.4f}, val_acc: {:.4f}\".format(epoch, result['val_loss'], result['val_acc']))\n",
    "    \n",
    "model = MnistModel()"
   ]
  },
  {
   "cell_type": "code",
   "execution_count": 58,
   "id": "d3b34916-18bf-429b-a653-92e89f72ca37",
   "metadata": {},
   "outputs": [
    {
     "data": {
      "text/plain": [
       "{'val_loss': 2.330965757369995, 'val_acc': 0.07179588824510574}"
      ]
     },
     "execution_count": 58,
     "metadata": {},
     "output_type": "execute_result"
    }
   ],
   "source": [
    "result0 = evaluate(model, val_loader)\n",
    "result0"
   ]
  },
  {
   "cell_type": "code",
   "execution_count": 59,
   "id": "0a875d30-617c-4d25-b018-12c0851904bd",
   "metadata": {},
   "outputs": [
    {
     "name": "stdout",
     "output_type": "stream",
     "text": [
      "Epoch [0], val_loss: 1.9584, val_acc: 0.6144\n",
      "Epoch [1], val_loss: 1.6880, val_acc: 0.7234\n",
      "Epoch [2], val_loss: 1.4869, val_acc: 0.7554\n",
      "Epoch [3], val_loss: 1.3353, val_acc: 0.7739\n",
      "Epoch [4], val_loss: 1.2192, val_acc: 0.7874\n"
     ]
    }
   ],
   "source": [
    "history1 = fit(5, 0.001, model, train_loader, val_loader)"
   ]
  },
  {
   "cell_type": "code",
   "execution_count": 61,
   "id": "ca5a21cb-c3e1-4acd-b4ba-d39125ce7b0f",
   "metadata": {},
   "outputs": [
    {
     "data": {
      "image/png": "[encoded data removed]",
      "text/plain": [
       "<Figure size 432x288 with 1 Axes>"
      ]
     },
     "metadata": {
      "needs_background": "light"
     },
     "output_type": "display_data"
    }
   ],
   "source": [
    "history = [result0] + history1\n",
    "accuracies = [result['val_acc'] for result in history]\n",
    "plt.plot(accuracies, '-x')\n",
    "plt.xlabel('epoch')\n",
    "plt.ylabel('accuracy')\n",
    "plt.title('Accuracy vs. No. of epochs');"
   ]
  },
  {
   "cell_type": "code",
   "execution_count": 62,
   "id": "4a123b7f-29d4-4915-80d2-9cec3e088fd3",
   "metadata": {},
   "outputs": [],
   "source": [
    "# Define test dataset\n",
    "test_dataset = MNIST(root='data/', \n",
    "                     train=False,\n",
    "                     transform=transforms.ToTensor())"
   ]
  },
  {
   "cell_type": "code",
   "execution_count": 63,
   "id": "d2d6a5ad-c885-4e65-9ce8-f8b18e8b883b",
   "metadata": {},
   "outputs": [
    {
     "name": "stdout",
     "output_type": "stream",
     "text": [
      "Shape: torch.Size([1, 28, 28])\n",
      "Label: 7\n"
     ]
    },
    {
     "data": {
      "image/png": "[encoded data removed]",
      "text/plain": [
       "<Figure size 432x288 with 1 Axes>"
      ]
     },
     "metadata": {
      "needs_background": "light"
     },
     "output_type": "display_data"
    }
   ],
   "source": [
    "img, label = test_dataset[0]\n",
    "plt.imshow(img[0], cmap='gray')\n",
    "print('Shape:', img.shape)\n",
    "print('Label:', label)"
   ]
  },
  {
   "cell_type": "code",
   "execution_count": 64,
   "id": "14345a3a-07af-4cc3-89fb-a95220169e13",
   "metadata": {},
   "outputs": [],
   "source": [
    "def predict_image(img, model):\n",
    "    xb = img.unsqueeze(0)\n",
    "    yb = model(xb)\n",
    "    _, preds = torch.max(yb, dim=1)\n",
    "    return preds[0].item()"
   ]
  },
  {
   "cell_type": "code",
   "execution_count": 65,
   "id": "107eb16d-673f-480d-9ac3-4d10e1a8de80",
   "metadata": {},
   "outputs": [
    {
     "name": "stdout",
     "output_type": "stream",
     "text": [
      "Label: 7 , Predicted: 7\n"
     ]
    },
    {
     "data": {
      "image/png": "[encoded data removed]",
      "text/plain": [
       "<Figure size 432x288 with 1 Axes>"
      ]
     },
     "metadata": {
      "needs_background": "light"
     },
     "output_type": "display_data"
    }
   ],
   "source": [
    "img, label = test_dataset[0]\n",
    "plt.imshow(img[0], cmap='gray')\n",
    "print('Label:', label, ', Predicted:', predict_image(img, model))"
   ]
  },
  {
   "cell_type": "code",
   "execution_count": 66,
   "id": "4de5dcb2-0e40-48c0-a66d-b1048c21a9f4",
   "metadata": {},
   "outputs": [],
   "source": [
    "torch.save(model.state_dict(), \"mnist-logistic.pth\")"
   ]
  },
  {
   "cell_type": "code",
   "execution_count": 67,
   "id": "2b187a41-56d6-4b1a-9c39-56df233cea34",
   "metadata": {},
   "outputs": [
    {
     "data": {
      "text/plain": [
       "OrderedDict([('linear.weight',\n",
       "              tensor([[-0.0252,  0.0021,  0.0293,  ..., -0.0059,  0.0117,  0.0179],\n",
       "                      [ 0.0340, -0.0114, -0.0097,  ..., -0.0338, -0.0254, -0.0225],\n",
       "                      [-0.0333,  0.0049, -0.0282,  ..., -0.0238,  0.0070,  0.0340],\n",
       "                      ...,\n",
       "                      [ 0.0308,  0.0258,  0.0116,  ..., -0.0015, -0.0080, -0.0228],\n",
       "                      [ 0.0204, -0.0063, -0.0208,  ..., -0.0196,  0.0253, -0.0230],\n",
       "                      [-0.0038, -0.0231,  0.0034,  ..., -0.0094, -0.0333,  0.0071]])),\n",
       "             ('linear.bias',\n",
       "              tensor([ 0.0080,  0.0168, -0.0044, -0.0354,  0.0050, -0.0271, -0.0382,  0.0406,\n",
       "                      -0.0086, -0.0348]))])"
      ]
     },
     "execution_count": 67,
     "metadata": {},
     "output_type": "execute_result"
    }
   ],
   "source": [
    "model.state_dict()"
   ]
  }
 ],
 "metadata": {
  "kernelspec": {
   "display_name": "Python 3 (ipykernel)",
   "language": "python",
   "name": "python3"
  },
  "language_info": {
   "codemirror_mode": {
    "name": "ipython",
    "version": 3
   },
   "file_extension": ".py",
   "mimetype": "text/x-python",
   "name": "python",
   "nbconvert_exporter": "python",
   "pygments_lexer": "ipython3",
   "version": "3.9.12"
  }
 },
 "nbformat": 4,
 "nbformat_minor": 5
}
